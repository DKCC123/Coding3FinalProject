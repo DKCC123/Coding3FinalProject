{
  "nbformat": 4,
  "nbformat_minor": 0,
  "metadata": {
    "colab": {
      "provenance": [],
      "toc_visible": true
    },
    "kernelspec": {
      "name": "python3",
      "display_name": "Python 3"
    },
    "language_info": {
      "name": "python"
    }
  },
  "cells": [
    {
      "cell_type": "code",
      "execution_count": null,
      "metadata": {
        "id": "KQvghb4WgpDQ"
      },
      "outputs": [],
      "source": [
        "from PIL import Image\n",
        "\n",
        "def resize_image(image_path, output_path, target_size):\n",
        "    \"\"\"\n",
        "    将图像调整为指定尺寸并保存到输出路径\n",
        "    :param image_path: 输入图像的路径\n",
        "    :param output_path: 输出图像的路径\n",
        "    :param target_size: 目标尺寸，以元组形式表示 (width, height)\n",
        "    \"\"\"\n",
        "    with Image.open(image_path) as image:\n",
        "        resized_image = image.resize(target_size)\n",
        "        resized_image.save(output_path)\n",
        "\n",
        "# 例子用法：\n",
        "input_image_path = \"input.jpg\"\n",
        "output_image_path = \"output.jpg\"\n",
        "target_size = (252, 252)\n",
        "\n",
        "resize_image(input_image_path, output_image_path, target_size)\n"
      ]
    },
    {
      "cell_type": "code",
      "source": [],
      "metadata": {
        "id": "1cd-dNotib-1"
      },
      "execution_count": null,
      "outputs": []
    }
  ]
}